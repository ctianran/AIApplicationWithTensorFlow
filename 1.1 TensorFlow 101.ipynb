{
 "cells": [
  {
   "cell_type": "markdown",
   "metadata": {
    "collapsed": true
   },
   "source": [
    "## Import TensorFlow library"
   ]
  },
  {
   "cell_type": "code",
   "execution_count": 1,
   "metadata": {
    "collapsed": true
   },
   "outputs": [],
   "source": [
    "import tensorflow as tf"
   ]
  },
  {
   "cell_type": "markdown",
   "metadata": {
    "collapsed": true
   },
   "source": [
    "## TF constant and session"
   ]
  },
  {
   "cell_type": "code",
   "execution_count": 4,
   "metadata": {},
   "outputs": [
    {
     "name": "stdout",
     "output_type": "stream",
     "text": [
      "Tensor(\"Add_1:0\", shape=(), dtype=float32)\n",
      "11.1\n"
     ]
    }
   ],
   "source": [
    "x = tf.constant(3.0)\n",
    "y = tf.constant(8.1)\n",
    "with tf.Session() as session:\n",
    "    print(tf.add(x, y))\n",
    "    print(session.run(tf.add(x, y)))"
   ]
  },
  {
   "cell_type": "markdown",
   "metadata": {
    "collapsed": true
   },
   "source": [
    "## TF Graph and Tensorboard"
   ]
  },
  {
   "cell_type": "code",
   "execution_count": 5,
   "metadata": {},
   "outputs": [
    {
     "name": "stdout",
     "output_type": "stream",
     "text": [
      "11\n"
     ]
    }
   ],
   "source": [
    "x = tf.constant(3, name=\"x\")\n",
    "y = tf.constant(8, name=\"y\")\n",
    "with tf.Session() as session:\n",
    "    #graph persistence has to be before session execution\n",
    "    writer = tf.summary.FileWriter(\n",
    "        '/', session.graph)\n",
    "    print(session.run(tf.add(x, y)))\n",
    "#close the graph writer\n",
    "writer.close()"
   ]
  },
  {
   "cell_type": "code",
   "execution_count": 6,
   "metadata": {},
   "outputs": [
    {
     "name": "stdout",
     "output_type": "stream",
     "text": [
      "11\n"
     ]
    }
   ],
   "source": [
    "x = tf.constant(3, name='x')\n",
    "y = tf.constant(8, name='y')\n",
    "add_op = tf.add(x, y, name='add_op')\n",
    "with tf.Session() as session:\n",
    "    writer = tf.summary.FileWriter('test/test002', session.graph)\n",
    "    print(session.run(add_op))\n",
    "writer.close()"
   ]
  },
  {
   "cell_type": "markdown",
   "metadata": {},
   "source": [
    "## TF Variable "
   ]
  },
  {
   "cell_type": "code",
   "execution_count": 7,
   "metadata": {},
   "outputs": [
    {
     "name": "stdout",
     "output_type": "stream",
     "text": [
      "5\n"
     ]
    }
   ],
   "source": [
    "x = tf.Variable(2)\n",
    "y = tf.Variable(3)\n",
    "with tf.Session() as session:\n",
    "    session.run(tf.global_variables_initializer())\n",
    "    print(session.run(tf.add(x, y)))"
   ]
  },
  {
   "cell_type": "markdown",
   "metadata": {},
   "source": [
    "## Placeholder "
   ]
  },
  {
   "cell_type": "code",
   "execution_count": 10,
   "metadata": {},
   "outputs": [
    {
     "name": "stdout",
     "output_type": "stream",
     "text": [
      "[ 6.  7.  8.]\n"
     ]
    }
   ],
   "source": [
    "a = tf.placeholder(tf.float32, shape=[3], name=\"a\")\n",
    "b = tf.constant([5, 5, 5], tf.float32, name=\"b\")\n",
    "c = a + b # short for tf.add(a, b)\n",
    "with tf.Session() as session:\n",
    "    #Error!! because a doesn't have any value\n",
    "    #print(session.run(c))\n",
    "    #feed [1, 2, 3] to placeholder a via the dict {a: [1, 2, 3]}\n",
    "    print(session.run(c, {a:[1, 2, 3]}))"
   ]
  },
  {
   "cell_type": "markdown",
   "metadata": {},
   "source": [
    "## Undeterministic shape can be defined "
   ]
  },
  {
   "cell_type": "code",
   "execution_count": 12,
   "metadata": {},
   "outputs": [
    {
     "name": "stdout",
     "output_type": "stream",
     "text": [
      "[[  6.   7.   8.]\n",
      " [  9.  10.  11.]\n",
      " [ 12.  13.  14.]\n",
      " [  8.  10.  12.]]\n"
     ]
    }
   ],
   "source": [
    "a = tf.placeholder(tf.float32, shape=[None, 3], name=\"a\")\n",
    "b = tf.constant([5, 5, 5], tf.float32, name=\"b\")\n",
    "c = a + b\n",
    "with tf.Session() as session:\n",
    "    print(session.run(c, {a:[[1, 2, 3], [4, 5, 6], [7, 8, 9], [3, 5, 7]]}))"
   ]
  },
  {
   "cell_type": "markdown",
   "metadata": {},
   "source": [
    "## eval() vs session.run() "
   ]
  },
  {
   "cell_type": "markdown",
   "metadata": {},
   "source": [
    "## eval() == tf.get_default_session().run(t) "
   ]
  },
  {
   "cell_type": "markdown",
   "metadata": {},
   "source": [
    "## Assigment "
   ]
  },
  {
   "cell_type": "code",
   "execution_count": 13,
   "metadata": {},
   "outputs": [
    {
     "name": "stdout",
     "output_type": "stream",
     "text": [
      "1\n"
     ]
    }
   ],
   "source": [
    "W = tf.Variable(1)\n",
    "W.assign(2)\n",
    "with tf.Session() as session:\n",
    "    session.run(W.initializer)\n",
    "    print(W.eval())"
   ]
  },
  {
   "cell_type": "code",
   "execution_count": 15,
   "metadata": {},
   "outputs": [
    {
     "name": "stdout",
     "output_type": "stream",
     "text": [
      "2\n"
     ]
    }
   ],
   "source": [
    "W = tf.Variable(1)\n",
    "#assign_op = W.assign(2)\n",
    "with tf.Session() as session:\n",
    "    session.run(W.initializer)\n",
    "    session.run(W.assign(2))\n",
    "    print(W.eval())"
   ]
  },
  {
   "cell_type": "code",
   "execution_count": 17,
   "metadata": {},
   "outputs": [
    {
     "name": "stdout",
     "output_type": "stream",
     "text": [
      "2\n",
      "4\n",
      "8\n",
      "16\n",
      "32\n",
      "64\n",
      "128\n",
      "256\n",
      "512\n",
      "1024\n"
     ]
    }
   ],
   "source": [
    "W = tf.Variable(1)\n",
    "w_double = W.assign(2 * W)\n",
    "with tf.Session() as sess:\n",
    "    sess.run(W.initializer)\n",
    "    # initialize all variables?\n",
    "    # sess.run(tf.global_variables_initializer())\n",
    "    for _ in range(10):\n",
    "        print(sess.run(w_double))"
   ]
  },
  {
   "cell_type": "markdown",
   "metadata": {},
   "source": [
    "# Tensorboard"
   ]
  },
  {
   "cell_type": "code",
   "execution_count": 2,
   "metadata": {},
   "outputs": [
    {
     "name": "stdout",
     "output_type": "stream",
     "text": [
      "5\n"
     ]
    }
   ],
   "source": [
    "import tensorflow as tf\n",
    "a = tf.constant(2, name='a_constant')\n",
    "b = tf.constant(3, name='b_constant')\n",
    "x = tf.add(a, b, name=\"add_operator\")\n",
    "\n",
    "with tf.Session() as sess:\n",
    "    writer = tf.summary.FileWriter(\n",
    "    'test/test003', sess.graph)\n",
    "    print(sess.run(x))\n",
    "\n",
    "writer.close()"
   ]
  },
  {
   "cell_type": "markdown",
   "metadata": {},
   "source": [
    "# Interactive Session "
   ]
  },
  {
   "cell_type": "code",
   "execution_count": 5,
   "metadata": {},
   "outputs": [
    {
     "name": "stdout",
     "output_type": "stream",
     "text": [
      "200.0\n"
     ]
    }
   ],
   "source": [
    "# auto make itself default session\n",
    "session = tf.InteractiveSession()\n",
    "a = tf.constant(10.0, name='a_const')\n",
    "b = tf.constant(20.0, name='b_const')\n",
    "multi_op = tf.multiply(a, b, name='multiply')\n",
    "#No need to specifying the context 'session'\n",
    "writer = tf.summary.FileWriter('test/test001', session.graph)\n",
    "print(multi_op.eval())\n",
    "session.close()"
   ]
  },
  {
   "cell_type": "markdown",
   "metadata": {},
   "source": [
    "# Advanced Operators"
   ]
  },
  {
   "cell_type": "code",
   "execution_count": 13,
   "metadata": {},
   "outputs": [
    {
     "name": "stdout",
     "output_type": "stream",
     "text": [
      "x: \n",
      "[[2 3]\n",
      " [4 5]]\n",
      "\n",
      "\n",
      "y: \n",
      "[[0 2]\n",
      " [4 6]]\n",
      "\n",
      "\n",
      "z: \n",
      "[[12 22]\n",
      " [20 38]]\n",
      "\n",
      "\n",
      "z_zeros: \n",
      "[[ 0.  0.  0.  0.]\n",
      " [ 0.  0.  0.  0.]\n",
      " [ 0.  0.  0.  0.]]\n",
      "\n",
      "\n",
      "z_ones: \n",
      "[[ 1.  1.  1.]\n",
      " [ 1.  1.  1.]\n",
      " [ 1.  1.  1.]\n",
      " [ 1.  1.  1.]]\n",
      "\n",
      "\n",
      "x_ones_alike: \n",
      "[[ 1.  1.]\n",
      " [ 1.  1.]]\n",
      "\n",
      "\n",
      "z_fill: \n",
      "[[ 1.23399997  1.23399997  1.23399997]\n",
      " [ 1.23399997  1.23399997  1.23399997]\n",
      " [ 1.23399997  1.23399997  1.23399997]]\n",
      "\n",
      "\n",
      "k: \n",
      "[[ 0.  1.]\n",
      " [-1.  3.]]\n",
      "k inverse: \n",
      "[[ 3. -1.]\n",
      " [ 1.  0.]]\n",
      "\n",
      "\n"
     ]
    }
   ],
   "source": [
    "a = tf.constant([2, 2], name=\"a\")\n",
    "b = tf.constant([[0, 1], [2, 3]], name='b')\n",
    "k = tf.constant([[0, 1], [-1, 3]], dtype=tf.float32, name=\"k\")\n",
    "x = tf.add(a, b, name=\"add\")\n",
    "y = tf.multiply(a, b, name=\"multiply\")\n",
    "with tf.Session() as sess:\n",
    "    x, y = sess.run([x, y])\n",
    "    print(\"x: \\n%s\\n\\n\" % x)\n",
    "    print(\"y: \\n%s\\n\\n\" % y)\n",
    "    \n",
    "    z = tf.matmul(x, y, name=\"matmul\")\n",
    "    print(\"z: \\n%s\\n\\n\" % sess.run(z))\n",
    "    \n",
    "    z_zeros = tf.zeros([3, 4], dtype=tf.float32, name=\"float_zeros\")\n",
    "    print(\"z_zeros: \\n%s\\n\\n\" % sess.run(z_zeros))\n",
    "    \n",
    "    z_ones = tf.ones([4, 3], dtype=tf.float32, name=\"flaot_ones\")\n",
    "    print(\"z_ones: \\n%s\\n\\n\" % sess.run(z_ones))\n",
    "    \n",
    "    x_ones_alike = tf.ones_like(x, dtype=tf.float32) # x is the shape to be similar to\n",
    "    print(\"x_ones_alike: \\n%s\\n\\n\" % sess.run(x_ones_alike))\n",
    "    \n",
    "    z_fill = tf.fill([3, 3], value=1.234, name=\"fill_ns\")\n",
    "    print(\"z_fill: \\n%s\\n\\n\" % sess.run(z_fill))\n",
    "    \n",
    "    k_inverse = tf.matrix_inverse(k, name=\"inverse\")\n",
    "    print(\"k: \\n%s\" % k.eval())\n",
    "    print(\"k inverse: \\n%s\\n\\n\" % k_inverse.eval())"
   ]
  },
  {
   "cell_type": "code",
   "execution_count": null,
   "metadata": {
    "collapsed": true
   },
   "outputs": [],
   "source": []
  }
 ],
 "metadata": {
  "kernelspec": {
   "display_name": "Python 3",
   "language": "python",
   "name": "python3"
  },
  "language_info": {
   "codemirror_mode": {
    "name": "ipython",
    "version": 3
   },
   "file_extension": ".py",
   "mimetype": "text/x-python",
   "name": "python",
   "nbconvert_exporter": "python",
   "pygments_lexer": "ipython3",
   "version": "3.5.4"
  }
 },
 "nbformat": 4,
 "nbformat_minor": 2
}
