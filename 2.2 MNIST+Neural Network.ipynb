{
 "cells": [
  {
   "cell_type": "markdown",
   "metadata": {},
   "source": [
    "### Import tensorflow and MNIST"
   ]
  },
  {
   "cell_type": "code",
   "execution_count": 3,
   "metadata": {},
   "outputs": [
    {
     "name": "stdout",
     "output_type": "stream",
     "text": [
      "Extracting /tmp/data/train-images-idx3-ubyte.gz\n",
      "Extracting /tmp/data/train-labels-idx1-ubyte.gz\n",
      "Extracting /tmp/data/t10k-images-idx3-ubyte.gz\n",
      "Extracting /tmp/data/t10k-labels-idx1-ubyte.gz\n",
      "Datasets(train=<tensorflow.contrib.learn.python.learn.datasets.mnist.DataSet object at 0x000002A1B7DB2BE0>, validation=<tensorflow.contrib.learn.python.learn.datasets.mnist.DataSet object at 0x000002A1B7DB2828>, test=<tensorflow.contrib.learn.python.learn.datasets.mnist.DataSet object at 0x000002A1B7DB2A20>)\n"
     ]
    }
   ],
   "source": [
    "import tensorflow as tf\n",
    "from tensorflow.examples.tutorials.mnist import input_data\n",
    "mnist = input_data.read_data_sets(\"/tmp/data/\", one_hot=True)\n",
    "print(mnist)"
   ]
  },
  {
   "cell_type": "markdown",
   "metadata": {},
   "source": [
    "### Define input/output"
   ]
  },
  {
   "cell_type": "code",
   "execution_count": 6,
   "metadata": {
    "collapsed": true
   },
   "outputs": [],
   "source": [
    "# MNIST data input (img shape: 28*28)\n",
    "num_input = 784\n",
    "# MNIST total classes (0-9 digits)\n",
    "num_classes = 10\n",
    "\n",
    "# placeholders for input and output\n",
    "X = tf.placeholder(tf.float32, [None, num_input])\n",
    "Y = tf.placeholder(tf.float32, [None, num_classes])"
   ]
  },
  {
   "cell_type": "markdown",
   "metadata": {},
   "source": [
    "### Define layers parameters"
   ]
  },
  {
   "cell_type": "code",
   "execution_count": 7,
   "metadata": {},
   "outputs": [],
   "source": [
    "# Define size of neurons per layer of 4 connected neural layers\n",
    "# Try change the number of layers and neurons per layer\n",
    "n_neurons = {1: 512, 2: 256, 3: 256, 4: 128,}\n",
    "\n",
    "# Define the wieght shape for furture invoke\n",
    "weights = {\n",
    "    'h1': tf.Variable(tf.random_normal([num_input, n_neurons[1]])),\n",
    "    'h2': tf.Variable(tf.random_normal([n_neurons[1], n_neurons[2]])),\n",
    "    'h3': tf.Variable(tf.random_normal([n_neurons[2], n_neurons[3]])),\n",
    "    'h4': tf.Variable(tf.random_normal([n_neurons[3], n_neurons[4]]))\n",
    "}\n",
    "\n",
    "# Define bias shape\n",
    "biases = {\n",
    "    'b1': tf.Variable(tf.random_normal([n_neurons[1]])),\n",
    "    'b2': tf.Variable(tf.random_normal([n_neurons[2]])),\n",
    "    'b3': tf.Variable(tf.random_normal([n_neurons[3]])),\n",
    "    'b4': tf.Variable(tf.random_normal([n_neurons[4]])),\n",
    "    'out': tf.Variable(tf.random_normal([num_classes]))\n",
    "}"
   ]
  },
  {
   "cell_type": "markdown",
   "metadata": {},
   "source": [
    "### Hyperparameters!!"
   ]
  },
  {
   "cell_type": "code",
   "execution_count": 13,
   "metadata": {},
   "outputs": [],
   "source": [
    "# Parameters and model hypterparameters\n",
    "learning_rate = 0.01\n",
    "num_steps = 1000\n",
    "batch_size = 200\n",
    "display_step = 100"
   ]
  },
  {
   "cell_type": "markdown",
   "metadata": {},
   "source": [
    "### Define evaluation method without core neural network yet "
   ]
  },
  {
   "cell_type": "code",
   "execution_count": 19,
   "metadata": {
    "collapsed": true
   },
   "outputs": [],
   "source": [
    "def evaluate(logits):\n",
    "    prediction = tf.nn.softmax(logits)\n",
    "    cost_function = tf.reduce_mean(\n",
    "        tf.nn.softmax_cross_entropy_with_logits(logits=logits, labels=Y))\n",
    "    \n",
    "    # Check out other optimzers, basically compared to GD or SGD, Adam \n",
    "    # introduced momentum to (1) more effectively train (2) protect from local\n",
    "    # minimal better; and adaptively adjust learning speed more effectively to\n",
    "    # converge faster, than gradient descent\n",
    "    optimizer = tf.train.AdamOptimizer(learning_rate=learning_rate)\n",
    "    train_op = optimizer.minimize(cost_function)\n",
    "\n",
    "    # Evaluate model\n",
    "    correct_pred = tf.equal(tf.argmax(prediction, 1), tf.argmax(Y, 1))\n",
    "    accuracy = tf.reduce_mean(tf.cast(correct_pred, tf.float32))\n",
    "\n",
    "    # Start training\n",
    "    with tf.Session() as sess:\n",
    "        sess.run(tf.global_variables_initializer())\n",
    "        for step in range(1, num_steps):\n",
    "            batch_x, batch_y = mnist.train.next_batch(batch_size)\n",
    "            sess.run(train_op, feed_dict={X: batch_x, Y: batch_y})\n",
    "            if (step % display_step == 0 or step == 1):\n",
    "                # Calculate batch loss and accuracy\n",
    "                loss, acc = sess.run([cost_function, accuracy],\n",
    "                                     feed_dict={X: batch_x, Y: batch_y})\n",
    "                print(\"Step \" + str(step) \\\n",
    "                      + \", Loss= \" + \"{:.4f}\".format(loss) \\\n",
    "                      + \", Training Accuracy= \" + \"{:.3f}\".format(acc))\n",
    "\n",
    "        print(\"Optimization Finished!\")\n",
    "\n",
    "        # Calculate accuracy for MNIST test images\n",
    "        print(\"Testing Accuracy:\", \\\n",
    "            sess.run(accuracy, feed_dict={X: mnist.test.images,\n",
    "                                          Y: mnist.test.labels}))\n"
   ]
  },
  {
   "cell_type": "markdown",
   "metadata": {},
   "source": [
    "### Valilla NN"
   ]
  },
  {
   "cell_type": "code",
   "execution_count": 20,
   "metadata": {
    "collapsed": true
   },
   "outputs": [],
   "source": [
    "def neural_net(x, n_layer):\n",
    "    print(\"------Vanilla NN with {0} layers------\".format(n_layer))\n",
    "    layer_1 = tf.add(tf.matmul(x, weights['h1']), biases['b1'])\n",
    "    layer_2 = tf.add(tf.matmul(layer_1, weights['h2']), biases['b2'])\n",
    "    layer_3 = tf.add(tf.matmul(layer_2, weights['h3']), biases['b3'])\n",
    "    layer_4 = tf.add(tf.matmul(layer_3, weights['h4']), biases['b4'])\n",
    "    hidden_layers = {\n",
    "        1: layer_1,\n",
    "        2: layer_2,\n",
    "        3: layer_3,\n",
    "        4: layer_4\n",
    "    }\n",
    "    out_weight = tf.Variable(tf.random_normal([n_neurons[n_layer], num_classes]))\n",
    "    out_layer = tf.matmul(hidden_layers[n_layer], out_weight) + biases['out']\n",
    "    return out_layer"
   ]
  },
  {
   "cell_type": "code",
   "execution_count": 21,
   "metadata": {},
   "outputs": [
    {
     "name": "stdout",
     "output_type": "stream",
     "text": [
      "------Vanilla NN with 4 layers------\n",
      "Step 1, Loss= 849537.4375, Training Accuracy= 0.245\n",
      "Step 100, Loss= 31256.0996, Training Accuracy= 0.850\n",
      "Step 200, Loss= 21036.8301, Training Accuracy= 0.845\n",
      "Step 300, Loss= 8496.9395, Training Accuracy= 0.875\n",
      "Step 400, Loss= 9218.2891, Training Accuracy= 0.930\n",
      "Step 500, Loss= 12085.3975, Training Accuracy= 0.845\n",
      "Step 600, Loss= 7281.6538, Training Accuracy= 0.875\n",
      "Step 700, Loss= 11565.0576, Training Accuracy= 0.830\n",
      "Step 800, Loss= 3287.2581, Training Accuracy= 0.925\n",
      "Step 900, Loss= 6025.1138, Training Accuracy= 0.900\n",
      "Optimization Finished!\n",
      "Testing Accuracy: 0.8733\n"
     ]
    }
   ],
   "source": [
    "evaluate(neural_net(X, 4))"
   ]
  },
  {
   "cell_type": "markdown",
   "metadata": {},
   "source": [
    "### NN + Dropout?"
   ]
  },
  {
   "cell_type": "code",
   "execution_count": 22,
   "metadata": {
    "collapsed": true
   },
   "outputs": [],
   "source": [
    "dropout_rate = 0.5\n",
    "def neural_net_dropout(x, n_layer):\n",
    "    print(\"------NN + Dropout wiht {0} layers------\".format(n_layer))\n",
    "    layer_1 = tf.add(tf.matmul(x, weights['h1']), biases['b1'])\n",
    "    dropout_1 = tf.layers.dropout(inputs=layer_1, rate=dropout_rate)\n",
    "\n",
    "    layer_2 = tf.add(tf.matmul(dropout_1, weights['h2']), biases['b2'])\n",
    "    dropout_2 = tf.layers.dropout(inputs=layer_2, rate=dropout_rate)\n",
    "\n",
    "    layer_3 = tf.add(tf.matmul(dropout_2, weights['h3']), biases['b3'])\n",
    "    dropout_3 = tf.layers.dropout(inputs=layer_3, rate=dropout_rate)\n",
    "    \n",
    "    layer_4 = tf.add(tf.matmul(dropout_3, weights['h4']), biases['b4'])\n",
    "    hidden_layers = {\n",
    "        1: layer_1,\n",
    "        2: layer_2,\n",
    "        3: layer_3,\n",
    "        4: layer_4\n",
    "    }\n",
    "    out_weight = tf.Variable(tf.random_normal([n_neurons[n_layer], num_classes]))\n",
    "    out_layer = tf.matmul(hidden_layers[n_layer], out_weight) + biases['out']\n",
    "    return out_layer"
   ]
  },
  {
   "cell_type": "code",
   "execution_count": 23,
   "metadata": {},
   "outputs": [
    {
     "name": "stdout",
     "output_type": "stream",
     "text": [
      "------NN + Dropout wiht 4 layers------\n",
      "Step 1, Loss= 559437.5000, Training Accuracy= 0.220\n",
      "Step 100, Loss= 16792.7754, Training Accuracy= 0.905\n",
      "Step 200, Loss= 21647.2559, Training Accuracy= 0.895\n",
      "Step 300, Loss= 11808.0684, Training Accuracy= 0.870\n",
      "Step 400, Loss= 14638.7139, Training Accuracy= 0.870\n",
      "Step 500, Loss= 5591.4370, Training Accuracy= 0.885\n",
      "Step 600, Loss= 9705.9609, Training Accuracy= 0.870\n",
      "Step 700, Loss= 5876.3823, Training Accuracy= 0.880\n",
      "Step 800, Loss= 4576.9663, Training Accuracy= 0.910\n",
      "Step 900, Loss= 6562.9238, Training Accuracy= 0.865\n",
      "Optimization Finished!\n",
      "Testing Accuracy: 0.8669\n"
     ]
    }
   ],
   "source": [
    "evaluate(neural_net_dropout(X, 4))"
   ]
  },
  {
   "cell_type": "markdown",
   "metadata": {},
   "source": [
    "### NN + tanh "
   ]
  },
  {
   "cell_type": "code",
   "execution_count": 24,
   "metadata": {
    "collapsed": true
   },
   "outputs": [],
   "source": [
    "def neural_net_tanh(x, n_layer):\n",
    "    print(\"------NN + tanh with {0} layers------\".format(n_layer))\n",
    "    layer_1 = tf.add(tf.matmul(x, weights['h1']), biases['b1'])\n",
    "    tanh_1 = tf.nn.tanh(layer_1)\n",
    "    \n",
    "    layer_2 = tf.add(tf.matmul(tanh_1, weights['h2']), biases['b2'])\n",
    "    tanh_2 = tf.nn.tanh(layer_2)\n",
    "    \n",
    "    layer_3 = tf.add(tf.matmul(tanh_2, weights['h3']), biases['b3'])\n",
    "    tanh_3 = tf.nn.tanh(layer_3)\n",
    "    \n",
    "    layer_4 = tf.add(tf.matmul(tanh_3, weights['h4']), biases['b4'])\n",
    "    hidden_layers = {\n",
    "        1: layer_1,\n",
    "        2: layer_2,\n",
    "        3: layer_3,\n",
    "        4: layer_4\n",
    "    }\n",
    "    out_weight = tf.Variable(tf.random_normal([n_neurons[n_layer], num_classes]))\n",
    "    out_layer = tf.matmul(hidden_layers[n_layer], out_weight) + biases['out']\n",
    "    return out_layer"
   ]
  },
  {
   "cell_type": "code",
   "execution_count": 25,
   "metadata": {},
   "outputs": [
    {
     "name": "stdout",
     "output_type": "stream",
     "text": [
      "------NN + tanh with 4 layers------\n",
      "Step 1, Loss= 157.2486, Training Accuracy= 0.210\n",
      "Step 100, Loss= 11.6365, Training Accuracy= 0.770\n",
      "Step 200, Loss= 12.4033, Training Accuracy= 0.740\n",
      "Step 300, Loss= 3.6058, Training Accuracy= 0.795\n",
      "Step 400, Loss= 4.8351, Training Accuracy= 0.760\n",
      "Step 500, Loss= 3.2561, Training Accuracy= 0.835\n",
      "Step 600, Loss= 1.9281, Training Accuracy= 0.850\n",
      "Step 700, Loss= 2.8700, Training Accuracy= 0.860\n",
      "Step 800, Loss= 1.9801, Training Accuracy= 0.865\n",
      "Step 900, Loss= 4.1688, Training Accuracy= 0.750\n",
      "Optimization Finished!\n",
      "Testing Accuracy: 0.7645\n"
     ]
    }
   ],
   "source": [
    "evaluate(neural_net_tanh(X, 4))"
   ]
  },
  {
   "cell_type": "markdown",
   "metadata": {},
   "source": [
    "### NN + ReLU"
   ]
  },
  {
   "cell_type": "code",
   "execution_count": 26,
   "metadata": {
    "collapsed": true
   },
   "outputs": [],
   "source": [
    "def neural_net_relu(x, n_layer):\n",
    "    print(\"------NN + ReLU with {0} layers------\".format(n_layer))\n",
    "    layer_1 = tf.add(tf.matmul(x, weights['h1']), biases['b1'])\n",
    "    relu_1 = tf.nn.relu(layer_1)\n",
    "    \n",
    "    layer_2 = tf.add(tf.matmul(relu_1, weights['h2']), biases['b2'])\n",
    "    relu_2 = tf.nn.relu(layer_2)\n",
    "    \n",
    "    layer_3 = tf.add(tf.matmul(relu_2, weights['h3']), biases['b3'])\n",
    "    relu_3 = tf.nn.relu(layer_3)\n",
    "\n",
    "    layer_4 = tf.add(tf.matmul(relu_3, weights['h4']), biases['b4'])\n",
    "    hidden_layers = {\n",
    "        1: layer_1,\n",
    "        2: layer_2,\n",
    "        3: layer_3,\n",
    "        4: layer_4\n",
    "    }\n",
    "    out_weight = tf.Variable(tf.random_normal([n_neurons[n_layer], num_classes]))\n",
    "    out_layer = tf.matmul(hidden_layers[n_layer], out_weight) + biases['out']\n",
    "    return out_layer"
   ]
  },
  {
   "cell_type": "code",
   "execution_count": 27,
   "metadata": {},
   "outputs": [
    {
     "name": "stdout",
     "output_type": "stream",
     "text": [
      "------NN + ReLU with 4 layers------\n",
      "Step 1, Loss= 244020.3125, Training Accuracy= 0.160\n",
      "Step 100, Loss= 4933.3926, Training Accuracy= 0.885\n",
      "Step 200, Loss= 1684.4766, Training Accuracy= 0.925\n",
      "Step 300, Loss= 1038.8535, Training Accuracy= 0.935\n",
      "Step 400, Loss= 868.9738, Training Accuracy= 0.945\n",
      "Step 500, Loss= 843.2711, Training Accuracy= 0.960\n",
      "Step 600, Loss= 372.9640, Training Accuracy= 0.970\n",
      "Step 700, Loss= 208.9264, Training Accuracy= 0.980\n",
      "Step 800, Loss= 299.4787, Training Accuracy= 0.965\n",
      "Step 900, Loss= 204.8120, Training Accuracy= 0.990\n",
      "Optimization Finished!\n",
      "Testing Accuracy: 0.9411\n"
     ]
    }
   ],
   "source": [
    "evaluate(neural_net_relu(X, 4))"
   ]
  },
  {
   "cell_type": "markdown",
   "metadata": {},
   "source": [
    "### NN + ReLU + Dropout "
   ]
  },
  {
   "cell_type": "code",
   "execution_count": 28,
   "metadata": {
    "collapsed": true
   },
   "outputs": [],
   "source": [
    "dropout_rate = 0.5\n",
    "def neural_net_relu_dropout(x, n_layer):\n",
    "    print(\"------NN + ReLU + Dropout with {0} layers------\".format(n_layer))\n",
    "    layer_1 = tf.add(tf.matmul(x, weights['h1']), biases['b1'])\n",
    "    relu_1 = tf.nn.relu(layer_1)\n",
    "    dropout_1 = tf.layers.dropout(inputs=relu_1, rate=dropout_rate)\n",
    "\n",
    "    layer_2 = tf.add(tf.matmul(dropout_1, weights['h2']), biases['b2'])\n",
    "    relu_2 = tf.nn.relu(layer_2)\n",
    "    dropout_2 = tf.layers.dropout(inputs=relu_2, rate=dropout_rate)\n",
    "    \n",
    "    layer_3 = tf.add(tf.matmul(dropout_2, weights['h3']), biases['b3'])\n",
    "    relu_3 = tf.nn.relu(layer_3)\n",
    "    dropout_3 = tf.layers.dropout(inputs=relu_3, rate=dropout_rate)\n",
    "\n",
    "    layer_4 = tf.add(tf.matmul(dropout_3, weights['h4']), biases['b4'])\n",
    "    hidden_layers = {\n",
    "        1: layer_1,\n",
    "        2: layer_2,\n",
    "        3: layer_3,\n",
    "        4: layer_4\n",
    "    }\n",
    "    out_weight = tf.Variable(tf.random_normal([n_neurons[n_layer], num_classes]))\n",
    "    out_layer = tf.matmul(hidden_layers[n_layer], out_weight) + biases['out']\n",
    "    return out_layer"
   ]
  },
  {
   "cell_type": "code",
   "execution_count": 29,
   "metadata": {},
   "outputs": [
    {
     "name": "stdout",
     "output_type": "stream",
     "text": [
      "------NN + ReLU + Dropout with 4 layers------\n",
      "Step 1, Loss= 168270.9531, Training Accuracy= 0.150\n",
      "Step 100, Loss= 5207.7285, Training Accuracy= 0.880\n",
      "Step 200, Loss= 2010.2823, Training Accuracy= 0.925\n",
      "Step 300, Loss= 1804.3119, Training Accuracy= 0.920\n",
      "Step 400, Loss= 447.4523, Training Accuracy= 0.950\n",
      "Step 500, Loss= 355.3167, Training Accuracy= 0.975\n",
      "Step 600, Loss= 183.1521, Training Accuracy= 0.995\n",
      "Step 700, Loss= 164.2642, Training Accuracy= 0.980\n",
      "Step 800, Loss= 461.5016, Training Accuracy= 0.940\n",
      "Step 900, Loss= 125.6042, Training Accuracy= 0.980\n",
      "Optimization Finished!\n",
      "Testing Accuracy: 0.9461\n"
     ]
    }
   ],
   "source": [
    "evaluate(neural_net_relu_dropout(X, 4))"
   ]
  },
  {
   "cell_type": "code",
   "execution_count": null,
   "metadata": {
    "collapsed": true
   },
   "outputs": [],
   "source": []
  }
 ],
 "metadata": {
  "kernelspec": {
   "display_name": "Python 3",
   "language": "python",
   "name": "python3"
  },
  "language_info": {
   "codemirror_mode": {
    "name": "ipython",
    "version": 3
   },
   "file_extension": ".py",
   "mimetype": "text/x-python",
   "name": "python",
   "nbconvert_exporter": "python",
   "pygments_lexer": "ipython3",
   "version": "3.5.4"
  }
 },
 "nbformat": 4,
 "nbformat_minor": 2
}
